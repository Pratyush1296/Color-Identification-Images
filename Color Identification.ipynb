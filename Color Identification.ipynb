{
 "cells": [
  {
   "cell_type": "markdown",
   "id": "e42d68f8",
   "metadata": {},
   "source": [
    "### The Sparks Foundation\n",
    "### Task 5 (Computer Vision and IoT) - Color Identification in Images\n",
    "### Pratyush Yadav"
   ]
  },
  {
   "cell_type": "code",
   "execution_count": null,
   "id": "91b09fe5",
   "metadata": {},
   "outputs": [],
   "source": [
    "import pandas as pd\n",
    "import numpy as np\n",
    "import cv2"
   ]
  },
  {
   "cell_type": "code",
   "execution_count": null,
   "id": "ab0dbf5e",
   "metadata": {},
   "outputs": [],
   "source": [
    "index=[\"color\",\"color_name\",\"hex\",\"R\",\"G\",\"B\"]\n",
    "colors = pd.read_csv('C:/Users/Pratyush Yadav/Downloads/color-names-master/color-names-master/output/colors.csv', \n",
    "                     names=index, header=None)\n",
    "\n",
    "img = cv2.imread('C:/Users/Pratyush Yadav/Desktop/color_image.jpg')"
   ]
  },
  {
   "cell_type": "code",
   "execution_count": null,
   "id": "803029b4",
   "metadata": {},
   "outputs": [],
   "source": [
    "#global variables\n",
    "clicked=False  #This is there to ensure if the image is clicked \n",
    "r = g = b = xpos = ypos = 0  # rgb values and mouse pointer position\n",
    "\n",
    "#function to calculate x,y coordinates of double click\n",
    "def draw_function(event, x,y,flags,param):\n",
    "    if event == cv2.EVENT_LBUTTONDBLCLK:\n",
    "        global b,g,r,xpos,ypos, clicked\n",
    "        clicked = True\n",
    "        xpos = x\n",
    "        ypos = y\n",
    "        b,g,r = img[y,x]\n",
    "        b = int(b)\n",
    "        g = int(g)\n",
    "        r = int(r)"
   ]
  },
  {
   "cell_type": "code",
   "execution_count": null,
   "id": "64a6a1a8",
   "metadata": {},
   "outputs": [],
   "source": [
    "def getColorName(R,G,B):\n",
    "    minimum = 10000\n",
    "    for i in range(len(colors)):\n",
    "        d = abs(R- int(colors.loc[i,\"R\"])) + abs(G- int(colors.loc[i,\"G\"]))+ abs(B- int(colors.loc[i,\"B\"]))\n",
    "        if(d<=minimum):\n",
    "            minimum = d\n",
    "            cname = colors.loc[i,\"color_name\"]\n",
    "    return cname"
   ]
  },
  {
   "cell_type": "code",
   "execution_count": null,
   "id": "4f7a1da6",
   "metadata": {},
   "outputs": [],
   "source": [
    "while(1):\n",
    "    \n",
    "    cv2.namedWindow('image', cv2.WINDOW_NORMAL)\n",
    "#     cv2.resizeWindow('image', 1200, 700)\n",
    "    cv2.imshow(\"image\",img)\n",
    "    cv2.setMouseCallback('image',draw_function)\n",
    "    if clicked:\n",
    "        \n",
    "        cv2.rectangle(img,(10,10), (1500,100), (b,g,r), -1)\n",
    "\n",
    "        #Displaying the color name and correspoding R, G, B values\n",
    "        text = getColorName(r,g,b) + ' R='+ str(r) + ' G='+ str(g) + ' B='+ str(b)\n",
    "        cv2.putText(img, text,(30,70),cv2.FONT_HERSHEY_COMPLEX,2,(255,255,255),2,cv2.LINE_AA)\n",
    "        \n",
    "  #For very light colours, display text in black colour\n",
    "        if(r+g+b>=600):\n",
    "            cv2.putText(img, text,(50,50),2,0.8,(0,0,0),2,cv2.LINE_AA)\n",
    "\n",
    "#         clicked=False\n",
    "\n",
    "    #Break the loop on pressing esc\n",
    "    if cv2.waitKey(20) & 0xFF ==27:\n",
    "        break\n",
    "\n",
    "cv2.destroyAllWindows()"
   ]
  }
 ],
 "metadata": {
  "kernelspec": {
   "display_name": "Python 3",
   "language": "python",
   "name": "python3"
  },
  "language_info": {
   "codemirror_mode": {
    "name": "ipython",
    "version": 3
   },
   "file_extension": ".py",
   "mimetype": "text/x-python",
   "name": "python",
   "nbconvert_exporter": "python",
   "pygments_lexer": "ipython3",
   "version": "3.9.5"
  }
 },
 "nbformat": 4,
 "nbformat_minor": 5
}
